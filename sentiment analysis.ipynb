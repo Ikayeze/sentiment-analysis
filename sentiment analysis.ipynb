{
 "cells": [
  {
   "cell_type": "code",
   "execution_count": 1,
   "id": "b10eca05",
   "metadata": {
    "ExecuteTime": {
     "end_time": "2023-02-06T19:45:01.899992Z",
     "start_time": "2023-02-06T19:44:57.064122Z"
    }
   },
   "outputs": [],
   "source": [
    "import pandas as pd\n",
    "from vaderSentiment.vaderSentiment import SentimentIntensityAnalyzer\n",
    "analyser = SentimentIntensityAnalyzer()"
   ]
  },
  {
   "cell_type": "code",
   "execution_count": 2,
   "id": "0f014625",
   "metadata": {
    "ExecuteTime": {
     "end_time": "2023-02-06T19:45:48.769818Z",
     "start_time": "2023-02-06T19:45:48.741828Z"
    }
   },
   "outputs": [],
   "source": [
    "scores =[]\n",
    "sentences = [\"A really bad, horrible book.\",\"A good, awesome, wonderful, cool book !!!  :)\"]\n",
    "\n",
    "for sentence in sentences:\n",
    "    score = analyser.polarity_scores(sentence)\n",
    "    scores.append(score)\n",
    "    "
   ]
  },
  {
   "cell_type": "code",
   "execution_count": 3,
   "id": "ae0c85f1",
   "metadata": {
    "ExecuteTime": {
     "end_time": "2023-02-06T19:46:30.816139Z",
     "start_time": "2023-02-06T19:46:30.794142Z"
    }
   },
   "outputs": [],
   "source": [
    "dataFrame= pd.DataFrame(scores)"
   ]
  },
  {
   "cell_type": "code",
   "execution_count": 4,
   "id": "a05bc2da",
   "metadata": {
    "ExecuteTime": {
     "end_time": "2023-02-06T19:46:48.982083Z",
     "start_time": "2023-02-06T19:46:48.892638Z"
    }
   },
   "outputs": [
    {
     "name": "stdout",
     "output_type": "stream",
     "text": [
      "     neg    neu    pos  compound\n",
      "0  0.716  0.284  0.000   -0.8211\n",
      "1  0.000  0.151  0.849    0.9507\n"
     ]
    }
   ],
   "source": [
    "print(dataFrame)\n"
   ]
  },
  {
   "cell_type": "code",
   "execution_count": null,
   "id": "a125c2ba",
   "metadata": {},
   "outputs": [],
   "source": []
  }
 ],
 "metadata": {
  "kernelspec": {
   "display_name": "Python 3 (ipykernel)",
   "language": "python",
   "name": "python3"
  },
  "language_info": {
   "codemirror_mode": {
    "name": "ipython",
    "version": 3
   },
   "file_extension": ".py",
   "mimetype": "text/x-python",
   "name": "python",
   "nbconvert_exporter": "python",
   "pygments_lexer": "ipython3",
   "version": "3.9.13"
  },
  "toc": {
   "base_numbering": 1,
   "nav_menu": {},
   "number_sections": true,
   "sideBar": true,
   "skip_h1_title": false,
   "title_cell": "Table of Contents",
   "title_sidebar": "Contents",
   "toc_cell": false,
   "toc_position": {},
   "toc_section_display": true,
   "toc_window_display": false
  },
  "varInspector": {
   "cols": {
    "lenName": 16,
    "lenType": 16,
    "lenVar": 40
   },
   "kernels_config": {
    "python": {
     "delete_cmd_postfix": "",
     "delete_cmd_prefix": "del ",
     "library": "var_list.py",
     "varRefreshCmd": "print(var_dic_list())"
    },
    "r": {
     "delete_cmd_postfix": ") ",
     "delete_cmd_prefix": "rm(",
     "library": "var_list.r",
     "varRefreshCmd": "cat(var_dic_list()) "
    }
   },
   "types_to_exclude": [
    "module",
    "function",
    "builtin_function_or_method",
    "instance",
    "_Feature"
   ],
   "window_display": false
  }
 },
 "nbformat": 4,
 "nbformat_minor": 5
}
